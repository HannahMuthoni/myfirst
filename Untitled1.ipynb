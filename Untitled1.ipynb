{
  "metadata": {
    "language_info": {
      "codemirror_mode": {
        "name": "python",
        "version": 3
      },
      "file_extension": ".py",
      "mimetype": "text/x-python",
      "name": "python",
      "nbconvert_exporter": "python",
      "pygments_lexer": "ipython3",
      "version": "3.8"
    },
    "kernelspec": {
      "name": "python",
      "display_name": "Pyolite",
      "language": "python"
    }
  },
  "nbformat_minor": 4,
  "nbformat": 4,
  "cells": [
    {
      "cell_type": "markdown",
      "source": "# My Jupyter Notebook on IBM Watson Studio",
      "metadata": {}
    },
    {
      "cell_type": "markdown",
      "source": "**Hannah Muthoni**\nData Scientist",
      "metadata": {}
    },
    {
      "cell_type": "markdown",
      "source": "*I am interested in data science because I enjoy solving problems and analyzing data*",
      "metadata": {}
    },
    {
      "cell_type": "markdown",
      "source": "### My code is supposed to determine the multiplication of 2 by 2",
      "metadata": {}
    },
    {
      "cell_type": "code",
      "source": "a = 2 * 2\nprint(a)",
      "metadata": {
        "trusted": true
      },
      "execution_count": 1,
      "outputs": [
        {
          "name": "stdout",
          "text": "4\n",
          "output_type": "stream"
        }
      ]
    },
    {
      "cell_type": "markdown",
      "source": "My code is able to \n1. multiply 2 by 2\n2. print out the result of the multiplication\n\nMy aim for learning data science is\n- there is a high demand for data scientists\n- I would like to understand how to use data to solve problems\n\n~~The end of my project~~\n",
      "metadata": {}
    }
  ]
}